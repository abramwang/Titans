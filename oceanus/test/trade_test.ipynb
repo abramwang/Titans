{
 "cells": [
  {
   "cell_type": "markdown",
   "metadata": {},
   "source": [
    "# 安信测试"
   ]
  },
  {
   "cell_type": "code",
   "execution_count": 10,
   "metadata": {},
   "outputs": [],
   "source": [
    "import redis\n",
    "import json\n",
    "\n",
    "redis_pool = redis.ConnectionPool(\n",
    "    host='47.103.74.35', port= 20184, password= 'W_P!ViW+d7xAFept6', db= 0)\n",
    "redis_conn = redis.Redis(connection_pool= redis_pool)\n",
    "\n",
    "\n",
    "streamKey = \"oc_trader_commander_anxin.253191001815\"\n",
    "\n",
    "def enterOrder():\n",
    "    redis_conn.xadd(streamKey,\n",
    "        {\n",
    "            \"enterOrder\": json.dumps(\n",
    "                {\n",
    "                    \"szSymbol\" : \"000001\",\n",
    "                    \"szExchange\" : \"SZ\",\n",
    "                    \"nTradeSideType\" : 'B',\n",
    "                    \"nOffsetType\" : 'C',\n",
    "                    \"nBusinessType\" : 'S',\n",
    "                    \"nOrderPrice\" : 11.26,\n",
    "                    \"nOrderVol\" : 100000\n",
    "                }\n",
    "            )\n",
    "        }\n",
    "    )\n",
    "    \"\"\"\n",
    "    redis_conn.xadd(streamKey,\n",
    "        {\n",
    "            \"enterOrder\": json.dumps(\n",
    "                {\n",
    "                    \"szSymbol\" : \"000001\",\n",
    "                    \"szExchange\" : \"SZ\",\n",
    "                    \"nTradeSideType\" : 'S',\n",
    "                    \"nOffsetType\" : 'C',\n",
    "                    \"nBusinessType\" : 'S',\n",
    "                    \"nOrderPrice\" : 11.36,\n",
    "                    \"nOrderVol\" : 100\n",
    "                }\n",
    "            )\n",
    "        }\n",
    "    )\n",
    "\n",
    "    redis_conn.xadd(streamKey,\n",
    "        {\n",
    "            \"enterOrder\": json.dumps(\n",
    "                {\n",
    "                    \"szSymbol\" : \"600000\",\n",
    "                    \"szExchange\" : \"SH\",\n",
    "                    \"nTradeSideType\" : 'B',\n",
    "                    \"nOffsetType\" : 'C',\n",
    "                    \"nBusinessType\" : 'S',\n",
    "                    \"nOrderPrice\" : 7.01,\n",
    "                    \"nOrderVol\" : 100\n",
    "                }\n",
    "            )\n",
    "        }\n",
    "    )\n",
    "\n",
    "    redis_conn.xadd(streamKey,\n",
    "        {\n",
    "            \"enterOrder\": json.dumps(\n",
    "                {\n",
    "                    \"szSymbol\" : \"600000\",\n",
    "                    \"szExchange\" : \"SH\",\n",
    "                    \"nTradeSideType\" : 'S',\n",
    "                    \"nOffsetType\" : 'C',\n",
    "                    \"nBusinessType\" : 'S',\n",
    "                    \"nOrderPrice\" : 7.04,\n",
    "                    \"nOrderVol\" : 100\n",
    "                }\n",
    "            )\n",
    "        }\n",
    "    )\n",
    "    \"\"\"\n",
    "    \n",
    "enterOrder()"
   ]
  },
  {
   "cell_type": "code",
   "execution_count": null,
   "metadata": {},
   "outputs": [],
   "source": [
    "import redis\n",
    "import json\n",
    "import time\n",
    "\n",
    "redis_pool = redis.ConnectionPool(\n",
    "    host='47.103.74.35', port= 20184, password= 'W_P!ViW+d7xAFept6', db= 0)\n",
    "redis_conn = redis.Redis(connection_pool= redis_pool)\n",
    "\n",
    "\n",
    "streamKey = \"oc_trader_commander_anxin.253191001815\"\n",
    "\n",
    "def enterOrder(vol):\n",
    "    redis_conn.xadd(streamKey,\n",
    "        {\n",
    "            \"enterOrder\": json.dumps(\n",
    "                {\n",
    "                    \"szSymbol\" : \"000001\",\n",
    "                    \"szExchange\" : \"SZ\",\n",
    "                    \"nTradeSideType\" : 'B',\n",
    "                    \"nOffsetType\" : 'C',\n",
    "                    \"nBusinessType\" : 'S',\n",
    "                    \"nOrderPrice\" : 11.26,\n",
    "                    \"nOrderVol\" : 10000 + vol*100\n",
    "                }\n",
    "            )\n",
    "        }\n",
    "    )\n",
    "\n",
    "for i in range(1000):\n",
    "    enterOrder(i)\n",
    "    time.sleep(0.008)"
   ]
  },
  {
   "cell_type": "code",
   "execution_count": 5,
   "metadata": {},
   "outputs": [
    {
     "data": {
      "text/plain": [
       "b'1693461663111-0'"
      ]
     },
     "execution_count": 5,
     "metadata": {},
     "output_type": "execute_result"
    }
   ],
   "source": [
    "import redis\n",
    "import json\n",
    "\n",
    "redis_pool = redis.ConnectionPool(\n",
    "    host='47.103.74.35', port= 20184, password= 'W_P!ViW+d7xAFept6', db= 0)\n",
    "redis_conn = redis.Redis(connection_pool= redis_pool)\n",
    "\n",
    "\n",
    "streamKey = \"oc_trader_commander_anxin.253191001815\"\n",
    "redis_conn.xadd(streamKey,\n",
    "    {\n",
    "        \"QueryAsset\": json.dumps(\n",
    "            {\n",
    "            }\n",
    "        )\n",
    "    }\n",
    ")"
   ]
  },
  {
   "cell_type": "code",
   "execution_count": 6,
   "metadata": {},
   "outputs": [
    {
     "data": {
      "text/plain": [
       "b'1693463355557-0'"
      ]
     },
     "execution_count": 6,
     "metadata": {},
     "output_type": "execute_result"
    }
   ],
   "source": [
    "import redis\n",
    "import json\n",
    "\n",
    "redis_pool = redis.ConnectionPool(\n",
    "    host='47.103.74.35', port= 20184, password= 'W_P!ViW+d7xAFept6', db= 0)\n",
    "redis_conn = redis.Redis(connection_pool= redis_pool)\n",
    "\n",
    "\n",
    "streamKey = \"oc_trader_commander_anxin.253191001815\"\n",
    "redis_conn.xadd(streamKey,\n",
    "    {\n",
    "        \"QueryPositions\": json.dumps(\n",
    "            {\n",
    "            }\n",
    "        )\n",
    "    }\n",
    ")"
   ]
  },
  {
   "cell_type": "code",
   "execution_count": 7,
   "metadata": {},
   "outputs": [
    {
     "data": {
      "text/plain": [
       "b'1693464566451-0'"
      ]
     },
     "execution_count": 7,
     "metadata": {},
     "output_type": "execute_result"
    }
   ],
   "source": [
    "import redis\n",
    "import json\n",
    "\n",
    "redis_pool = redis.ConnectionPool(\n",
    "    host='47.103.74.35', port= 20184, password= 'W_P!ViW+d7xAFept6', db= 0)\n",
    "redis_conn = redis.Redis(connection_pool= redis_pool)\n",
    "\n",
    "\n",
    "streamKey = \"oc_trader_commander_anxin.253191001815\"\n",
    "redis_conn.xadd(streamKey,\n",
    "    {\n",
    "        \"QueryOrders\": json.dumps(\n",
    "            {\n",
    "            }\n",
    "        )\n",
    "    }\n",
    ")"
   ]
  },
  {
   "cell_type": "code",
   "execution_count": 8,
   "metadata": {},
   "outputs": [
    {
     "data": {
      "text/plain": [
       "b'1693464624326-0'"
      ]
     },
     "execution_count": 8,
     "metadata": {},
     "output_type": "execute_result"
    }
   ],
   "source": [
    "import redis\n",
    "import json\n",
    "\n",
    "redis_pool = redis.ConnectionPool(\n",
    "    host='47.103.74.35', port= 20184, password= 'W_P!ViW+d7xAFept6', db= 0)\n",
    "redis_conn = redis.Redis(connection_pool= redis_pool)\n",
    "\n",
    "\n",
    "streamKey = \"oc_trader_commander_anxin.253191001815\"\n",
    "redis_conn.xadd(streamKey,\n",
    "    {\n",
    "        \"QueryMatches\": json.dumps(\n",
    "            {\n",
    "            }\n",
    "        )\n",
    "    }\n",
    ")"
   ]
  }
 ],
 "metadata": {
  "kernelspec": {
   "display_name": "Python 3",
   "language": "python",
   "name": "python3"
  },
  "language_info": {
   "codemirror_mode": {
    "name": "ipython",
    "version": 3
   },
   "file_extension": ".py",
   "mimetype": "text/x-python",
   "name": "python",
   "nbconvert_exporter": "python",
   "pygments_lexer": "ipython3",
   "version": "3.6.8"
  },
  "orig_nbformat": 4
 },
 "nbformat": 4,
 "nbformat_minor": 2
}
