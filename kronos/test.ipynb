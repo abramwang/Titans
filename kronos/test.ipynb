{
 "cells": [
  {
   "cell_type": "code",
   "execution_count": 1,
   "id": "ddc62d8d",
   "metadata": {},
   "outputs": [
    {
     "name": "stdout",
     "output_type": "stream",
     "text": [
      "     order_book_id  market_tplus          symbol exchange  status  \\\n",
      "0      159001.XSHE             0       易方达保证金货币A     XSHE  Active   \n",
      "1      159002.XSHE             1       易方达保证金货币B     XSHE  Active   \n",
      "2      159003.XSHE             0        招商保证金快线A     XSHE  Active   \n",
      "3      159004.XSHE             1        招商保证金快线B     XSHE  Active   \n",
      "4      159005.XSHE             0      汇添富收益快钱货币A     XSHE  Active   \n",
      "...            ...           ...             ...      ...     ...   \n",
      "1498   589900.XSHG             1       博时科创综指ETF     XSHG  Active   \n",
      "1499   589950.XSHG             1   富国上证科创板100ETF     XSHG  Active   \n",
      "1500   589960.XSHG             1  易方达上证科创板新能源ETF     XSHG  Active   \n",
      "1501   589980.XSHG             1  汇添富上证科创板100ETF     XSHG  Active   \n",
      "1502   589990.XSHG             1            科创板综     XSHG  Active   \n",
      "\n",
      "     establishment_date de_listed_date type            trading_hours  \\\n",
      "0            2013-03-29     0000-00-00  ETF  09:31-11:30,13:01-15:00   \n",
      "1                  None     0000-00-00  ETF  09:31-11:30,13:01-15:00   \n",
      "2            2013-05-17     0000-00-00  ETF  09:31-11:30,13:01-15:00   \n",
      "3                  None     0000-00-00  ETF  09:31-11:30,13:01-15:00   \n",
      "4            2014-12-23     0000-00-00  ETF  09:31-11:30,13:01-15:00   \n",
      "...                 ...            ...  ...                      ...   \n",
      "1498         2025-02-26     0000-00-00  ETF  09:31-11:30,13:01-15:00   \n",
      "1499         2025-09-29     0000-00-00  ETF  09:31-11:30,13:01-15:00   \n",
      "1500         2025-09-10     0000-00-00  ETF  09:31-11:30,13:01-15:00   \n",
      "1501         2025-04-25     0000-00-00  ETF  09:31-11:30,13:01-15:00   \n",
      "1502         2025-02-26     0000-00-00  ETF  09:31-11:30,13:01-15:00   \n",
      "\n",
      "       abbrev_symbol  round_lot listed_date underlying_order_book_id  \\\n",
      "0          YFDBZJHBA        100  2014-10-20                     None   \n",
      "1          YFDBZJHBB        100  2014-10-20                     None   \n",
      "2           ZSBZJKXA        100  2014-10-20                     None   \n",
      "3           ZSBZJKXB        100  2014-10-20                     None   \n",
      "4         HTFSYKQHBA        100  2015-01-13                     None   \n",
      "...              ...        ...         ...                      ...   \n",
      "1498       BSKCZZETF        100  2025-03-05              000680.XSHG   \n",
      "1499   FGSZKCB100ETF        100  2025-10-17              000698.XSHG   \n",
      "1500  YFDSZKCBXNYETF        100  2025-09-22              000692.XSHG   \n",
      "1501  HTFSZKCB100ETF        100  2025-05-12              000698.XSHG   \n",
      "1502            KCBZ        100  2025-03-05              000680.XSHG   \n",
      "\n",
      "     underlying_name  least_redeem trading_code  board_type  \n",
      "0               None           1.0       159001           1  \n",
      "1               None           NaN       159002           1  \n",
      "2               None           1.0       159003           1  \n",
      "3               None           NaN       159004           1  \n",
      "4               None           1.0       159005           1  \n",
      "...              ...           ...          ...         ...  \n",
      "1498       上证科创板综合指数     5000000.0       589900           1  \n",
      "1499      上证科创板100指数     3000000.0       589950           1  \n",
      "1500      上证科创板新能源指数     1000000.0       589960           1  \n",
      "1501      上证科创板100指数     3000000.0       589980           1  \n",
      "1502       上证科创板综合指数     4000000.0       589990           1  \n",
      "\n",
      "[1503 rows x 17 columns]\n"
     ]
    }
   ],
   "source": [
    "import rqdatac\n",
    "from datetime import datetime\n",
    "from rqdatac import LiveMarketDataClient\n",
    "rqdatac.init(\"license\",\"g4po_ijeLmLocHb42KlSJlyoJfhttsva4DLTHhiPCj7CJ68XOtuoOWO8Lpf9rNuOehA30mZa5Gx3cbaGeFn9MEI2iw2NxyOfOkUpMY9RleBDONF0OQMnHKEKNDG9qGKQwKzTIXOeZqAiaH2uxa9Rw72iZk-7CgyjCBuoXpOAxc0=QE4nBAaytdktLQt3S4Bi5-lHaGcnfZSJcmL0z8m8jdJI77kh722PPK5usbY-5EkZzMNio1g0w0dpMaE7MxuN7II5nw3aAhMRjZ5kYX7lR0q6rcgD2lCke879PhITb5hZ8cnSQaygNZ0jDKnrkKzOls698b1vQ-yjW5WWAh4Y8q4=\")\n",
    "\n",
    "\n",
    "df = rqdatac.all_instruments(type=\"ETF\", market='cn', date=None)\n",
    "\n",
    "print(df)"
   ]
  }
 ],
 "metadata": {
  "kernelspec": {
   "display_name": "dev-env",
   "language": "python",
   "name": "python3"
  },
  "language_info": {
   "codemirror_mode": {
    "name": "ipython",
    "version": 3
   },
   "file_extension": ".py",
   "mimetype": "text/x-python",
   "name": "python",
   "nbconvert_exporter": "python",
   "pygments_lexer": "ipython3",
   "version": "3.13.5"
  }
 },
 "nbformat": 4,
 "nbformat_minor": 5
}
